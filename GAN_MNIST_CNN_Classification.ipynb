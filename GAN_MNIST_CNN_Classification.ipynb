{
 "cells": [
  {
   "cell_type": "code",
   "execution_count": 2,
   "metadata": {},
   "outputs": [],
   "source": [
    "# Use CNN to classify MNIST dataset"
   ]
  },
  {
   "cell_type": "code",
   "execution_count": 3,
   "metadata": {},
   "outputs": [],
   "source": [
    "import os\n",
    "import torch\n",
    "import torchvision\n",
    "import torch.nn as nn\n",
    "from torchvision import transforms\n",
    "from torchvision.utils import save_image\n",
    "from torchsummary import summary as PyTorchSummary\n",
    "\n",
    "import numpy as np\n",
    "import matplotlib.pyplot as plt\n",
    "\n",
    "%matplotlib inline"
   ]
  },
  {
   "cell_type": "code",
   "execution_count": 4,
   "metadata": {},
   "outputs": [],
   "source": [
    "device = torch.device('cuda' if torch.cuda.is_available() else 'cpu')\n"
   ]
  },
  {
   "cell_type": "code",
   "execution_count": 16,
   "metadata": {},
   "outputs": [],
   "source": [
    "num_epochs = 10\n",
    "batch_size = 100"
   ]
  },
  {
   "cell_type": "markdown",
   "metadata": {},
   "source": [
    "## Data Pipeline"
   ]
  },
  {
   "cell_type": "code",
   "execution_count": 7,
   "metadata": {},
   "outputs": [],
   "source": [
    "# MNIST dataset\n",
    "train_dataset = torchvision.datasets.MNIST(root='./../data/',\n",
    "                                           train=True, \n",
    "                                           transform=transforms.ToTensor(),\n",
    "                                           download=True)\n",
    "\n",
    "test_dataset = torchvision.datasets.MNIST(root='./../data/',\n",
    "                                          train=False, \n",
    "                                          transform=transforms.ToTensor())\n",
    "\n",
    "# Data loader\n",
    "train_loader = torch.utils.data.DataLoader(dataset=train_dataset,\n",
    "                                           batch_size=batch_size, \n",
    "                                           shuffle=True)\n",
    "\n",
    "test_loader = torch.utils.data.DataLoader(dataset=test_dataset,\n",
    "                                          batch_size=batch_size, \n",
    "                                          shuffle=False)"
   ]
  },
  {
   "cell_type": "markdown",
   "metadata": {},
   "source": [
    "## Build a classification model"
   ]
  },
  {
   "cell_type": "code",
   "execution_count": 8,
   "metadata": {},
   "outputs": [],
   "source": [
    "class Classifier(nn.Module):\n",
    "    def __init__(self, num_Classes = 10):\n",
    "        super(Classifier, self).__init__()\n",
    "        self.layer1 = nn.Sequential(\n",
    "            nn.Conv2d(1, 8, kernel_size=5, stride = 1), #1x28x28->8x24x24\n",
    "            nn.BatchNorm2d(8),\n",
    "            nn.ReLU(),\n",
    "            nn.MaxPool2d(2, stride = 2))#8x12x12\n",
    "        self.layer2 = nn.Sequential(\n",
    "            nn.Conv2d(8, 16, kernel_size=5, stride = 1), #16x8x8\n",
    "            nn.BatchNorm2d(16),\n",
    "            nn.ReLU(),\n",
    "            nn.MaxPool2d(2, stride = 2)) #16x4x4\n",
    "        self.layer3 = nn.Sequential(\n",
    "            nn.Conv2d(16, 64, kernel_size=3, stride = 1), #64x2x2\n",
    "            nn.BatchNorm2d(64),\n",
    "            nn.ReLU(),\n",
    "            nn.MaxPool2d(2, stride = 2)) #64x1x1\n",
    "        self.fc = nn.Linear(64, num_Classes)\n",
    "    def forward(self,x):\n",
    "        out = self.layer1(x)\n",
    "        out = self.layer2(out)\n",
    "        out = self.layer3(out)\n",
    "        out = out.reshape(out.size(0), -1)\n",
    "        out = self.fc(out)\n",
    "        return out"
   ]
  },
  {
   "cell_type": "code",
   "execution_count": 9,
   "metadata": {},
   "outputs": [],
   "source": [
    "Clf = Classifier(10).to(device)"
   ]
  },
  {
   "cell_type": "code",
   "execution_count": 10,
   "metadata": {},
   "outputs": [
    {
     "name": "stdout",
     "output_type": "stream",
     "text": [
      "----------------------------------------------------------------\n",
      "        Layer (type)               Output Shape         Param #\n",
      "================================================================\n",
      "            Conv2d-1            [-1, 8, 24, 24]             208\n",
      "       BatchNorm2d-2            [-1, 8, 24, 24]              16\n",
      "              ReLU-3            [-1, 8, 24, 24]               0\n",
      "         MaxPool2d-4            [-1, 8, 12, 12]               0\n",
      "            Conv2d-5             [-1, 16, 8, 8]           3,216\n",
      "       BatchNorm2d-6             [-1, 16, 8, 8]              32\n",
      "              ReLU-7             [-1, 16, 8, 8]               0\n",
      "         MaxPool2d-8             [-1, 16, 4, 4]               0\n",
      "            Conv2d-9             [-1, 64, 2, 2]           9,280\n",
      "      BatchNorm2d-10             [-1, 64, 2, 2]             128\n",
      "             ReLU-11             [-1, 64, 2, 2]               0\n",
      "        MaxPool2d-12             [-1, 64, 1, 1]               0\n",
      "           Linear-13                   [-1, 10]             650\n",
      "================================================================\n",
      "Total params: 13,530\n",
      "Trainable params: 13,530\n",
      "Non-trainable params: 0\n",
      "----------------------------------------------------------------\n",
      "Input size (MB): 0.00\n",
      "Forward/backward pass size (MB): 0.15\n",
      "Params size (MB): 0.05\n",
      "Estimated Total Size (MB): 0.20\n",
      "----------------------------------------------------------------\n"
     ]
    }
   ],
   "source": [
    "PyTorchSummary(Clf, input_size = (1,28,28))"
   ]
  },
  {
   "cell_type": "code",
   "execution_count": 12,
   "metadata": {},
   "outputs": [],
   "source": [
    "criterion = nn.CrossEntropyLoss()\n",
    "optimizer = torch.optim.Adam(Clf.parameters(), lr = 0.001)"
   ]
  },
  {
   "cell_type": "markdown",
   "metadata": {},
   "source": [
    "## Training"
   ]
  },
  {
   "cell_type": "code",
   "execution_count": 15,
   "metadata": {},
   "outputs": [],
   "source": [
    "total_step = len(train_loader)"
   ]
  },
  {
   "cell_type": "code",
   "execution_count": 19,
   "metadata": {},
   "outputs": [
    {
     "name": "stdout",
     "output_type": "stream",
     "text": [
      "Epoch [0/10], Step [100/600], Loss: 0.4459\n",
      "Epoch [0/10], Step [200/600], Loss: 0.1779\n",
      "Epoch [0/10], Step [300/600], Loss: 0.1062\n",
      "Epoch [0/10], Step [400/600], Loss: 0.1840\n",
      "Epoch [0/10], Step [500/600], Loss: 0.1312\n",
      "Epoch [0/10], Step [600/600], Loss: 0.0964\n",
      "Epoch [1/10], Step [100/600], Loss: 0.0394\n",
      "Epoch [1/10], Step [200/600], Loss: 0.0307\n",
      "Epoch [1/10], Step [300/600], Loss: 0.0725\n",
      "Epoch [1/10], Step [400/600], Loss: 0.0334\n",
      "Epoch [1/10], Step [500/600], Loss: 0.0214\n",
      "Epoch [1/10], Step [600/600], Loss: 0.0481\n",
      "Epoch [2/10], Step [100/600], Loss: 0.0467\n",
      "Epoch [2/10], Step [200/600], Loss: 0.0532\n",
      "Epoch [2/10], Step [300/600], Loss: 0.0358\n",
      "Epoch [2/10], Step [400/600], Loss: 0.0314\n",
      "Epoch [2/10], Step [500/600], Loss: 0.0380\n",
      "Epoch [2/10], Step [600/600], Loss: 0.0374\n",
      "Epoch [3/10], Step [100/600], Loss: 0.0275\n",
      "Epoch [3/10], Step [200/600], Loss: 0.0082\n",
      "Epoch [3/10], Step [300/600], Loss: 0.0840\n",
      "Epoch [3/10], Step [400/600], Loss: 0.0140\n",
      "Epoch [3/10], Step [500/600], Loss: 0.0290\n",
      "Epoch [3/10], Step [600/600], Loss: 0.0620\n",
      "Epoch [4/10], Step [100/600], Loss: 0.0123\n",
      "Epoch [4/10], Step [200/600], Loss: 0.0576\n",
      "Epoch [4/10], Step [300/600], Loss: 0.0067\n",
      "Epoch [4/10], Step [400/600], Loss: 0.0124\n",
      "Epoch [4/10], Step [500/600], Loss: 0.0180\n",
      "Epoch [4/10], Step [600/600], Loss: 0.0762\n",
      "Epoch [5/10], Step [100/600], Loss: 0.0136\n",
      "Epoch [5/10], Step [200/600], Loss: 0.0302\n",
      "Epoch [5/10], Step [300/600], Loss: 0.0028\n",
      "Epoch [5/10], Step [400/600], Loss: 0.0149\n",
      "Epoch [5/10], Step [500/600], Loss: 0.0343\n",
      "Epoch [5/10], Step [600/600], Loss: 0.0077\n",
      "Epoch [6/10], Step [100/600], Loss: 0.0205\n",
      "Epoch [6/10], Step [200/600], Loss: 0.0157\n",
      "Epoch [6/10], Step [300/600], Loss: 0.0166\n",
      "Epoch [6/10], Step [400/600], Loss: 0.0376\n",
      "Epoch [6/10], Step [500/600], Loss: 0.0062\n",
      "Epoch [6/10], Step [600/600], Loss: 0.0213\n",
      "Epoch [7/10], Step [100/600], Loss: 0.0056\n",
      "Epoch [7/10], Step [200/600], Loss: 0.0014\n",
      "Epoch [7/10], Step [300/600], Loss: 0.0039\n",
      "Epoch [7/10], Step [400/600], Loss: 0.0057\n",
      "Epoch [7/10], Step [500/600], Loss: 0.0032\n",
      "Epoch [7/10], Step [600/600], Loss: 0.0049\n",
      "Epoch [8/10], Step [100/600], Loss: 0.0037\n",
      "Epoch [8/10], Step [200/600], Loss: 0.0597\n",
      "Epoch [8/10], Step [300/600], Loss: 0.0210\n",
      "Epoch [8/10], Step [400/600], Loss: 0.0207\n",
      "Epoch [8/10], Step [500/600], Loss: 0.0127\n",
      "Epoch [8/10], Step [600/600], Loss: 0.0279\n",
      "Epoch [9/10], Step [100/600], Loss: 0.0155\n",
      "Epoch [9/10], Step [200/600], Loss: 0.0397\n",
      "Epoch [9/10], Step [300/600], Loss: 0.0056\n",
      "Epoch [9/10], Step [400/600], Loss: 0.0024\n",
      "Epoch [9/10], Step [500/600], Loss: 0.0014\n",
      "Epoch [9/10], Step [600/600], Loss: 0.0322\n"
     ]
    }
   ],
   "source": [
    "for epoch in range(num_epochs):\n",
    "    for i, (images, labels) in enumerate(train_loader):\n",
    "        images = images.to(device)\n",
    "        labels = labels.to(device)\n",
    "        \n",
    "        outputs = Clf(images)\n",
    "        loss = criterion(outputs, labels)\n",
    "        \n",
    "        optimizer.zero_grad()\n",
    "        loss.backward()\n",
    "        optimizer.step()\n",
    "        \n",
    "        if (i+1) % 100 == 0:\n",
    "            print('Epoch [{}/{}], Step [{}/{}], Loss: {:.4f}' \n",
    "                  .format(epoch, num_epochs, i+1, total_step, loss.item()))"
   ]
  },
  {
   "cell_type": "code",
   "execution_count": 21,
   "metadata": {},
   "outputs": [
    {
     "name": "stdout",
     "output_type": "stream",
     "text": [
      "Test Accuracy of the model on the 10000 test images: 99.12 %\n"
     ]
    }
   ],
   "source": [
    "# Test the model\n",
    "Clf.eval()  # eval mode (batchnorm uses moving mean/variance instead of mini-batch mean/variance)\n",
    "with torch.no_grad():\n",
    "    correct = 0\n",
    "    total = 0\n",
    "    for images, labels in test_loader:\n",
    "        images = images.to(device)\n",
    "        labels = labels.to(device)\n",
    "        outputs = Clf(images)\n",
    "        _, predicted = torch.max(outputs.data, 1)\n",
    "        total += labels.size(0)\n",
    "        correct += (predicted == labels).sum().item()\n",
    "\n",
    "    print('Test Accuracy of the model on the 10000 test images: {} %'.format(100 * correct / total))\n"
   ]
  },
  {
   "cell_type": "code",
   "execution_count": 22,
   "metadata": {},
   "outputs": [],
   "source": [
    "\n",
    "# Save the model checkpoints \n",
    "torch.save(Clf.state_dict(), 'Classifier.ckpt')"
   ]
  },
  {
   "cell_type": "code",
   "execution_count": null,
   "metadata": {},
   "outputs": [],
   "source": []
  }
 ],
 "metadata": {
  "kernelspec": {
   "display_name": "Python 3",
   "language": "python",
   "name": "python3"
  },
  "language_info": {
   "codemirror_mode": {
    "name": "ipython",
    "version": 3
   },
   "file_extension": ".py",
   "mimetype": "text/x-python",
   "name": "python",
   "nbconvert_exporter": "python",
   "pygments_lexer": "ipython3",
   "version": "3.6.4"
  }
 },
 "nbformat": 4,
 "nbformat_minor": 2
}
